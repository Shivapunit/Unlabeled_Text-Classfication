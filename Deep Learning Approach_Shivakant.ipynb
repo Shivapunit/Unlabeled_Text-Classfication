{
 "cells": [
  {
   "cell_type": "code",
   "execution_count": 29,
   "metadata": {
    "_cell_guid": "b1076dfc-b9ad-4769-8c92-a6c4dae69d19",
    "_uuid": "8f2839f25d086af736a60e9eeb907d3b93b6e0e5"
   },
   "outputs": [],
   "source": [
    "#Importing Lib \n",
    "\n",
    "import numpy as np \n",
    "import pandas as pd \n",
    "from IPython.display import display\n",
    "import warnings\n",
    "warnings.filterwarnings(\"ignore\", category=FutureWarning)\n",
    "import matplotlib.pyplot as plt\n",
    "import seaborn as sns"
   ]
  },
  {
   "cell_type": "code",
   "execution_count": 3,
   "metadata": {
    "_cell_guid": "79c7e3d0-c299-4dcb-8224-4455121ee9b0",
    "_uuid": "d629ff2d2480ee46fbb7e2d37f6b5fab8052498a"
   },
   "outputs": [
    {
     "name": "stdout",
     "output_type": "stream",
     "text": [
      "(50000, 18)\n"
     ]
    },
    {
     "data": {
      "text/html": [
       "<div>\n",
       "<style scoped>\n",
       "    .dataframe tbody tr th:only-of-type {\n",
       "        vertical-align: middle;\n",
       "    }\n",
       "\n",
       "    .dataframe tbody tr th {\n",
       "        vertical-align: top;\n",
       "    }\n",
       "\n",
       "    .dataframe thead th {\n",
       "        text-align: right;\n",
       "    }\n",
       "</style>\n",
       "<table border=\"1\" class=\"dataframe\">\n",
       "  <thead>\n",
       "    <tr style=\"text-align: right;\">\n",
       "      <th></th>\n",
       "      <th>Date received</th>\n",
       "      <th>Product</th>\n",
       "      <th>Sub-product</th>\n",
       "      <th>Issue</th>\n",
       "      <th>Sub-issue</th>\n",
       "      <th>Consumer complaint narrative</th>\n",
       "      <th>Company public response</th>\n",
       "      <th>Company</th>\n",
       "      <th>State</th>\n",
       "      <th>ZIP code</th>\n",
       "      <th>Tags</th>\n",
       "      <th>Consumer consent provided?</th>\n",
       "      <th>Submitted via</th>\n",
       "      <th>Date sent to company</th>\n",
       "      <th>Company response to consumer</th>\n",
       "      <th>Timely response?</th>\n",
       "      <th>Consumer disputed?</th>\n",
       "      <th>Complaint ID</th>\n",
       "    </tr>\n",
       "  </thead>\n",
       "  <tbody>\n",
       "    <tr>\n",
       "      <th>0</th>\n",
       "      <td>2022-08-11</td>\n",
       "      <td>Credit reporting, credit repair services, or o...</td>\n",
       "      <td>Credit reporting</td>\n",
       "      <td>Improper use of your report</td>\n",
       "      <td>Reporting company used your report improperly</td>\n",
       "      <td>NaN</td>\n",
       "      <td>NaN</td>\n",
       "      <td>EQUIFAX, INC.</td>\n",
       "      <td>IL</td>\n",
       "      <td>60431.0</td>\n",
       "      <td>NaN</td>\n",
       "      <td>NaN</td>\n",
       "      <td>Web</td>\n",
       "      <td>2022-08-11</td>\n",
       "      <td>Closed with explanation</td>\n",
       "      <td>Yes</td>\n",
       "      <td>NaN</td>\n",
       "      <td>5868234</td>\n",
       "    </tr>\n",
       "    <tr>\n",
       "      <th>1</th>\n",
       "      <td>2022-06-20</td>\n",
       "      <td>Credit reporting, credit repair services, or o...</td>\n",
       "      <td>Credit reporting</td>\n",
       "      <td>Problem with a credit reporting company's inve...</td>\n",
       "      <td>Was not notified of investigation status or re...</td>\n",
       "      <td>Hi, I can't believe you guys are taking advant...</td>\n",
       "      <td>Company has responded to the consumer and the ...</td>\n",
       "      <td>Experian Information Solutions Inc.</td>\n",
       "      <td>AL</td>\n",
       "      <td>35211.0</td>\n",
       "      <td>NaN</td>\n",
       "      <td>Consent provided</td>\n",
       "      <td>Web</td>\n",
       "      <td>2022-06-20</td>\n",
       "      <td>Closed with non-monetary relief</td>\n",
       "      <td>Yes</td>\n",
       "      <td>NaN</td>\n",
       "      <td>5687460</td>\n",
       "    </tr>\n",
       "    <tr>\n",
       "      <th>2</th>\n",
       "      <td>2022-08-12</td>\n",
       "      <td>Credit reporting, credit repair services, or o...</td>\n",
       "      <td>Credit reporting</td>\n",
       "      <td>Incorrect information on your report</td>\n",
       "      <td>Information belongs to someone else</td>\n",
       "      <td>NaN</td>\n",
       "      <td>NaN</td>\n",
       "      <td>Experian Information Solutions Inc.</td>\n",
       "      <td>TX</td>\n",
       "      <td>78227.0</td>\n",
       "      <td>NaN</td>\n",
       "      <td>NaN</td>\n",
       "      <td>Web</td>\n",
       "      <td>2022-08-12</td>\n",
       "      <td>In progress</td>\n",
       "      <td>Yes</td>\n",
       "      <td>NaN</td>\n",
       "      <td>5873290</td>\n",
       "    </tr>\n",
       "    <tr>\n",
       "      <th>3</th>\n",
       "      <td>2022-08-10</td>\n",
       "      <td>Debt collection</td>\n",
       "      <td>Other debt</td>\n",
       "      <td>Attempts to collect debt not owed</td>\n",
       "      <td>Debt was paid</td>\n",
       "      <td>NaN</td>\n",
       "      <td>NaN</td>\n",
       "      <td>CONTRACT CALLERS INC</td>\n",
       "      <td>NY</td>\n",
       "      <td>10016.0</td>\n",
       "      <td>NaN</td>\n",
       "      <td>NaN</td>\n",
       "      <td>Web</td>\n",
       "      <td>2022-08-10</td>\n",
       "      <td>Closed with explanation</td>\n",
       "      <td>Yes</td>\n",
       "      <td>NaN</td>\n",
       "      <td>5864261</td>\n",
       "    </tr>\n",
       "    <tr>\n",
       "      <th>4</th>\n",
       "      <td>2022-08-19</td>\n",
       "      <td>Debt collection</td>\n",
       "      <td>Credit card debt</td>\n",
       "      <td>Attempts to collect debt not owed</td>\n",
       "      <td>Debt was already discharged in bankruptcy and ...</td>\n",
       "      <td>NaN</td>\n",
       "      <td>NaN</td>\n",
       "      <td>NAVY FEDERAL CREDIT UNION</td>\n",
       "      <td>FL</td>\n",
       "      <td>33414.0</td>\n",
       "      <td>Servicemember</td>\n",
       "      <td>NaN</td>\n",
       "      <td>Web</td>\n",
       "      <td>2022-08-19</td>\n",
       "      <td>In progress</td>\n",
       "      <td>Yes</td>\n",
       "      <td>NaN</td>\n",
       "      <td>5895588</td>\n",
       "    </tr>\n",
       "  </tbody>\n",
       "</table>\n",
       "</div>"
      ],
      "text/plain": [
       "  Date received                                            Product  \\\n",
       "0    2022-08-11  Credit reporting, credit repair services, or o...   \n",
       "1    2022-06-20  Credit reporting, credit repair services, or o...   \n",
       "2    2022-08-12  Credit reporting, credit repair services, or o...   \n",
       "3    2022-08-10                                    Debt collection   \n",
       "4    2022-08-19                                    Debt collection   \n",
       "\n",
       "        Sub-product                                              Issue  \\\n",
       "0  Credit reporting                        Improper use of your report   \n",
       "1  Credit reporting  Problem with a credit reporting company's inve...   \n",
       "2  Credit reporting               Incorrect information on your report   \n",
       "3        Other debt                  Attempts to collect debt not owed   \n",
       "4  Credit card debt                  Attempts to collect debt not owed   \n",
       "\n",
       "                                           Sub-issue  \\\n",
       "0      Reporting company used your report improperly   \n",
       "1  Was not notified of investigation status or re...   \n",
       "2                Information belongs to someone else   \n",
       "3                                      Debt was paid   \n",
       "4  Debt was already discharged in bankruptcy and ...   \n",
       "\n",
       "                        Consumer complaint narrative  \\\n",
       "0                                                NaN   \n",
       "1  Hi, I can't believe you guys are taking advant...   \n",
       "2                                                NaN   \n",
       "3                                                NaN   \n",
       "4                                                NaN   \n",
       "\n",
       "                             Company public response  \\\n",
       "0                                                NaN   \n",
       "1  Company has responded to the consumer and the ...   \n",
       "2                                                NaN   \n",
       "3                                                NaN   \n",
       "4                                                NaN   \n",
       "\n",
       "                               Company State  ZIP code           Tags  \\\n",
       "0                        EQUIFAX, INC.    IL   60431.0            NaN   \n",
       "1  Experian Information Solutions Inc.    AL   35211.0            NaN   \n",
       "2  Experian Information Solutions Inc.    TX   78227.0            NaN   \n",
       "3                 CONTRACT CALLERS INC    NY   10016.0            NaN   \n",
       "4            NAVY FEDERAL CREDIT UNION    FL   33414.0  Servicemember   \n",
       "\n",
       "  Consumer consent provided? Submitted via Date sent to company  \\\n",
       "0                        NaN           Web           2022-08-11   \n",
       "1           Consent provided           Web           2022-06-20   \n",
       "2                        NaN           Web           2022-08-12   \n",
       "3                        NaN           Web           2022-08-10   \n",
       "4                        NaN           Web           2022-08-19   \n",
       "\n",
       "      Company response to consumer Timely response? Consumer disputed?  \\\n",
       "0          Closed with explanation              Yes                NaN   \n",
       "1  Closed with non-monetary relief              Yes                NaN   \n",
       "2                      In progress              Yes                NaN   \n",
       "3          Closed with explanation              Yes                NaN   \n",
       "4                      In progress              Yes                NaN   \n",
       "\n",
       "   Complaint ID  \n",
       "0       5868234  \n",
       "1       5687460  \n",
       "2       5873290  \n",
       "3       5864261  \n",
       "4       5895588  "
      ]
     },
     "execution_count": 3,
     "metadata": {},
     "output_type": "execute_result"
    }
   ],
   "source": [
    "df = pd.read_csv('complaints.csv', nrows = 50000) #taking small sample for fast calculation\n",
    "print(df.shape)\n",
    "df.head()"
   ]
  },
  {
   "cell_type": "code",
   "execution_count": 4,
   "metadata": {
    "_uuid": "3b54bd3015646e090f960b1425fc7be3836a19bd"
   },
   "outputs": [
    {
     "data": {
      "image/png": "[encoded data removed]",
      "text/plain": [
       "<Figure size 432x288 with 1 Axes>"
      ]
     },
     "metadata": {
      "needs_background": "light"
     },
     "output_type": "display_data"
    }
   ],
   "source": [
    "_ = sns.countplot(y = df['Product'])"
   ]
  },
  {
   "cell_type": "code",
   "execution_count": 5,
   "metadata": {
    "_uuid": "cdda032220625f1c5bb628c6e6ac784151010643"
   },
   "outputs": [
    {
     "data": {
      "text/plain": [
       "Credit reporting, credit repair services, or other personal consumer reports    34827\n",
       "Debt collection                                                                  4496\n",
       "Credit card or prepaid card                                                      2944\n",
       "Checking or savings account                                                      2627\n",
       "Mortgage                                                                         2142\n",
       "Money transfer, virtual currency, or money service                                930\n",
       "Student loan                                                                      612\n",
       "Vehicle loan or lease                                                             611\n",
       "Payday loan, title loan, or personal loan                                         415\n",
       "Credit reporting                                                                  135\n",
       "Credit card                                                                       102\n",
       "Bank account or service                                                            83\n",
       "Consumer Loan                                                                      53\n",
       "Payday loan                                                                        11\n",
       "Prepaid card                                                                        7\n",
       "Money transfers                                                                     4\n",
       "Other financial service                                                             1\n",
       "Name: Product, dtype: int64"
      ]
     },
     "execution_count": 5,
     "metadata": {},
     "output_type": "execute_result"
    }
   ],
   "source": [
    "df['Product'].value_counts()"
   ]
  },
  {
   "cell_type": "code",
   "execution_count": 6,
   "metadata": {
    "_uuid": "8530872ccb5e772e203358fbac4ea1e1504e1dd3"
   },
   "outputs": [
    {
     "name": "stdout",
     "output_type": "stream",
     "text": [
      "<class 'pandas.core.frame.DataFrame'>\n",
      "Int64Index: 16775 entries, 1 to 49999\n",
      "Data columns (total 2 columns):\n",
      " #   Column                        Non-Null Count  Dtype \n",
      "---  ------                        --------------  ----- \n",
      " 0   Product                       16775 non-null  object\n",
      " 1   Consumer complaint narrative  16775 non-null  object\n",
      "dtypes: object(2)\n",
      "memory usage: 393.2+ KB\n",
      "None\n",
      "                                              Product  \\\n",
      "1   Credit reporting, credit repair services, or o...   \n",
      "6   Credit reporting, credit repair services, or o...   \n",
      "11                                           Mortgage   \n",
      "31                        Checking or savings account   \n",
      "43  Credit reporting, credit repair services, or o...   \n",
      "\n",
      "                         Consumer complaint narrative  \n",
      "1   Hi, I can't believe you guys are taking advant...  \n",
      "6   According to the FCRA I am required by law to ...  \n",
      "11  I applied for XXXX XXXX XXXX ( XXXX ) and got ...  \n",
      "31  On XXXX, I logged into my mobile banking app f...  \n",
      "43  My city card AA get charged, some cheap cigars...  \n"
     ]
    },
    {
     "data": {
      "image/png": "[encoded data removed]",
      "text/plain": [
       "<Figure size 432x288 with 1 Axes>"
      ]
     },
     "metadata": {
      "needs_background": "light"
     },
     "output_type": "display_data"
    }
   ],
   "source": [
    "# Data Processing: Drop the fatures that are not used for Neural Networks Training\n",
    "sel_df = df.iloc[:, [1,5]]\n",
    "sel_df = sel_df.dropna()\n",
    "print(sel_df.info())\n",
    "print(sel_df.head())\n",
    "_ = sns.countplot(y = sel_df['Product'])"
   ]
  },
  {
   "cell_type": "code",
   "execution_count": 7,
   "metadata": {
    "_uuid": "f5485f95de7df2c22d7364976ab62c2394466c97"
   },
   "outputs": [
    {
     "data": {
      "text/plain": [
       "Credit reporting, credit repair services, or other personal consumer reports    9620\n",
       "Debt collection                                                                 2118\n",
       "Credit card or prepaid card                                                     1359\n",
       "Mortgage                                                                        1082\n",
       "Checking or savings account                                                     1020\n",
       "Money transfer, virtual currency, or money service                               426\n",
       "Student loan                                                                     348\n",
       "Vehicle loan or lease                                                            296\n",
       "Payday loan, title loan, or personal loan                                        197\n",
       "Credit reporting                                                                 113\n",
       "Credit card                                                                       76\n",
       "Bank account or service                                                           58\n",
       "Consumer Loan                                                                     44\n",
       "Payday loan                                                                        9\n",
       "Prepaid card                                                                       4\n",
       "Money transfers                                                                    4\n",
       "Other financial service                                                            1\n",
       "Name: Product, dtype: int64"
      ]
     },
     "execution_count": 7,
     "metadata": {},
     "output_type": "execute_result"
    }
   ],
   "source": [
    "sel_df.Product.value_counts()"
   ]
  },
  {
   "cell_type": "code",
   "execution_count": 8,
   "metadata": {
    "_uuid": "a61512352fea705464e9c3e003d5cf95db79372b"
   },
   "outputs": [
    {
     "data": {
      "text/plain": [
       "Debt collection                                       2118\n",
       "Mortgage                                              1082\n",
       "Checking or savings account                           1020\n",
       "Money transfer, virtual currency, or money service     426\n",
       "Student loan                                           348\n",
       "Vehicle loan or lease                                  296\n",
       "Credit reporting                                       113\n",
       "Credit card                                             76\n",
       "Bank account or service                                 58\n",
       "Consumer Loan                                           44\n",
       "Payday loan                                              9\n",
       "Prepaid card                                             4\n",
       "Money transfers                                          4\n",
       "Other financial service                                  1\n",
       "Name: Product, dtype: int64"
      ]
     },
     "execution_count": 8,
     "metadata": {},
     "output_type": "execute_result"
    }
   ],
   "source": [
    "# Category selection\n",
    "# categories = ['Debt collection', 'Mortgage', 'Credit reporting', 'Credit card', 'Student loan', 'Consumer Loan']\n",
    "exclude = [\n",
    "    'Credit reporting, credit repair services, or other personal consumer reports', \n",
    "    'Credit card or prepaid card', \n",
    "    'Money transfer, virtual currency, or money service ',\n",
    "    'Payday loan, title loan, or personal loan'\n",
    "]\n",
    "sel_cat = sel_df.Product.isin(exclude)\n",
    "sel_df_cat = sel_df[~sel_cat] # select category not in the exclude categories \n",
    "sel_df_cat['Product'].value_counts()"
   ]
  },
  {
   "cell_type": "code",
   "execution_count": 9,
   "metadata": {
    "_uuid": "03a39e513f9327f9dcc566e708a30fa67d4fcd3a"
   },
   "outputs": [
    {
     "data": {
      "text/html": [
       "<div>\n",
       "<style scoped>\n",
       "    .dataframe tbody tr th:only-of-type {\n",
       "        vertical-align: middle;\n",
       "    }\n",
       "\n",
       "    .dataframe tbody tr th {\n",
       "        vertical-align: top;\n",
       "    }\n",
       "\n",
       "    .dataframe thead th {\n",
       "        text-align: right;\n",
       "    }\n",
       "</style>\n",
       "<table border=\"1\" class=\"dataframe\">\n",
       "  <thead>\n",
       "    <tr style=\"text-align: right;\">\n",
       "      <th></th>\n",
       "      <th>Product</th>\n",
       "      <th>Consumer complaint narrative</th>\n",
       "      <th>category_id</th>\n",
       "    </tr>\n",
       "  </thead>\n",
       "  <tbody>\n",
       "    <tr>\n",
       "      <th>11</th>\n",
       "      <td>Mortgage</td>\n",
       "      <td>I applied for XXXX XXXX XXXX ( XXXX ) and got ...</td>\n",
       "      <td>0</td>\n",
       "    </tr>\n",
       "    <tr>\n",
       "      <th>31</th>\n",
       "      <td>Checking or savings account</td>\n",
       "      <td>On XXXX, I logged into my mobile banking app f...</td>\n",
       "      <td>1</td>\n",
       "    </tr>\n",
       "    <tr>\n",
       "      <th>663</th>\n",
       "      <td>Debt collection</td>\n",
       "      <td>I noticed this reported as a collection on my ...</td>\n",
       "      <td>2</td>\n",
       "    </tr>\n",
       "    <tr>\n",
       "      <th>664</th>\n",
       "      <td>Checking or savings account</td>\n",
       "      <td>On XX/XX/2022, XXXX payments were presented ag...</td>\n",
       "      <td>1</td>\n",
       "    </tr>\n",
       "    <tr>\n",
       "      <th>665</th>\n",
       "      <td>Debt collection</td>\n",
       "      <td>Today XX/XX/2022 i told them to put me on thei...</td>\n",
       "      <td>2</td>\n",
       "    </tr>\n",
       "  </tbody>\n",
       "</table>\n",
       "</div>"
      ],
      "text/plain": [
       "                         Product  \\\n",
       "11                      Mortgage   \n",
       "31   Checking or savings account   \n",
       "663              Debt collection   \n",
       "664  Checking or savings account   \n",
       "665              Debt collection   \n",
       "\n",
       "                          Consumer complaint narrative  category_id  \n",
       "11   I applied for XXXX XXXX XXXX ( XXXX ) and got ...            0  \n",
       "31   On XXXX, I logged into my mobile banking app f...            1  \n",
       "663  I noticed this reported as a collection on my ...            2  \n",
       "664  On XX/XX/2022, XXXX payments were presented ag...            1  \n",
       "665  Today XX/XX/2022 i told them to put me on thei...            2  "
      ]
     },
     "execution_count": 9,
     "metadata": {},
     "output_type": "execute_result"
    }
   ],
   "source": [
    "from io import StringIO\n",
    "col = ['Product', 'Consumer complaint narrative']\n",
    "sel_df_cat = sel_df_cat[col]\n",
    "\n",
    "sel_df_cat['category_id'] = sel_df_cat['Product'].factorize()[0]\n",
    "category_id_df = sel_df_cat[['Product', 'category_id']].drop_duplicates().sort_values('category_id')\n",
    "category_to_id = dict(category_id_df.values)\n",
    "id_to_category = dict(category_id_df[['category_id', 'Product']].values)\n",
    "sel_df_cat.head()"
   ]
  },
  {
   "cell_type": "markdown",
   "metadata": {
    "_uuid": "940528dd9ac9b83928f927c0feba48c8404f234c"
   },
   "source": [
    "**Text Normalization**"
   ]
  },
  {
   "cell_type": "code",
   "execution_count": 10,
   "metadata": {
    "_uuid": "621e7088e3e13f95037ae5a1209dae7af07bdf92"
   },
   "outputs": [],
   "source": [
    "# NLTK\n",
    "import nltk\n",
    "from nltk.corpus import stopwords\n",
    "from nltk.stem import SnowballStemmer\n",
    "\n",
    "import re\n",
    "import string\n",
    "\n",
    "# Text Normalization\n",
    "def clean_str(text):\n",
    "    \n",
    "    ## Remove puncuation\n",
    "    text = text.translate(string.punctuation)\n",
    "    \n",
    "    ## Convert words to lower case and split them\n",
    "    text = text.lower().split()\n",
    "    \n",
    "    ## Remove stop words\n",
    "    stops = set(stopwords.words(\"english\"))\n",
    "    text = [w for w in text if not w in stops and len(w) >= 3]\n",
    "    \n",
    "    text = \" \".join(text)\n",
    "\n",
    "    # Clean the text\n",
    "    text = re.sub(r\"[^A-Za-z0-9^,!.\\/'+-=]\", \" \", text)\n",
    "    text = re.sub(r\"what's\", \"what is \", text)\n",
    "    text = re.sub(r\"\\'s\", \" \", text)\n",
    "    text = re.sub(r\"\\'ve\", \" have \", text)\n",
    "    text = re.sub(r\"n't\", \" not \", text)\n",
    "    text = re.sub(r\"i'm\", \"i am \", text)\n",
    "    text = re.sub(r\"\\'re\", \" are \", text)\n",
    "    text = re.sub(r\"\\'d\", \" would \", text)\n",
    "    text = re.sub(r\"\\'ll\", \" will \", text)\n",
    "    \n",
    "        \n",
    "    text = re.sub(r\"\\$\", \" $ \", text) #isolate $\n",
    "    text = re.sub(r\"\\%\", \" % \", text) #isolate %\n",
    "    text = re.sub(r\",\", \" \", text)\n",
    "    text = re.sub(r\"\\.\", \" \", text)\n",
    "    text = re.sub(r\"!\", \" ! \", text)\n",
    "    text = re.sub(r\"\\/\", \" \", text)\n",
    "    text = re.sub(r\"\\^\", \" ^ \", text)\n",
    "    text = re.sub(r\"\\+\", \" + \", text)\n",
    "    text = re.sub(r\"\\-\", \" - \", text)\n",
    "    text = re.sub(r\"\\=\", \" = \", text)\n",
    "    text = re.sub(r\"'\", \" \", text)\n",
    "    text = re.sub(r\"(\\d+)(k)\", r\"\\g<1>000\", text)\n",
    "    text = re.sub(r\":\", \" : \", text)\n",
    "    #text = re.sub(r\" e g \", \" eg \", text)\n",
    "    #text = re.sub(r\" b g \", \" bg \", text)\n",
    "    #text = re.sub(r\" u s \", \" american \", text)\n",
    "    text = re.sub(r\"\\0s\", \"0\", text)\n",
    "    #text = re.sub(r\" 9 11 \", \"911\", text)\n",
    "    text = re.sub(r\"e - mail\", \"email\", text)\n",
    "    #text = re.sub(r\"j k\", \"jk\", text)\n",
    "    text = re.sub(r\"\\s{2,}\", \" \", text)\n",
    "    \n",
    "    #removing xxx since it will be treated as importand words by tf-idf vectorization\n",
    "    text = re.sub(r\"x{2,}\", \" \", text)\n",
    "    \n",
    "    # fixing XXX and xxx like as word\n",
    "    #text = re.sub(r'\\S*(x{2,}|X{2,})\\S*',\"xxx\",text)\n",
    "    # removing non ascii\n",
    "    text = re.sub(r'[^\\x00-\\x7F]+', \"\", text) \n",
    "    \n",
    "    # Stemming is important to reduce the number of features (variation from a single word), why stemming?\n",
    "    # Lemmatization takes way longer time to process\n",
    "    text = text.split()\n",
    "    stemmer = SnowballStemmer('english')\n",
    "    stemmed_words = [stemmer.stem(word) for word in text]\n",
    "    text = \" \".join(stemmed_words)\n",
    "\n",
    "    return text"
   ]
  },
  {
   "cell_type": "code",
   "execution_count": 11,
   "metadata": {
    "_uuid": "a78946b1d0093a89d24af5594296c0a43bc2ce56"
   },
   "outputs": [
    {
     "name": "stdout",
     "output_type": "stream",
     "text": [
      "(5599,)\n",
      "(5599,)\n"
     ]
    }
   ],
   "source": [
    "X = sel_df_cat['Consumer complaint narrative']\n",
    "y = sel_df_cat['Product']\n",
    "print(X.shape)\n",
    "print(y.shape)"
   ]
  },
  {
   "cell_type": "code",
   "execution_count": 12,
   "metadata": {
    "_uuid": "0b10d34607e11a147fff263a336e6a44ddeb84bf"
   },
   "outputs": [
    {
     "name": "stdout",
     "output_type": "stream",
     "text": [
      "\n",
      "Cleaning time:  13.0 s\n"
     ]
    }
   ],
   "source": [
    "from time import time\n",
    "t0 = time()\n",
    "X = X.map(lambda x: clean_str(x))\n",
    "print (\"\\nCleaning time: \", round(time()-t0, 1), \"s\")"
   ]
  },
  {
   "cell_type": "code",
   "execution_count": 30,
   "metadata": {},
   "outputs": [],
   "source": [
    "#Tfidf Vectorizer"
   ]
  },
  {
   "cell_type": "code",
   "execution_count": 13,
   "metadata": {
    "_uuid": "cf59146c4e677fc7c6bcbccbf9b912557116f09c"
   },
   "outputs": [
    {
     "name": "stdout",
     "output_type": "stream",
     "text": [
      "[[0.         0.         0.         ... 0.         0.         0.        ]\n",
      " [0.         0.         0.         ... 0.         0.         0.        ]\n",
      " [0.         0.         0.         ... 0.         0.         0.        ]\n",
      " ...\n",
      " [0.03943637 0.         0.         ... 0.         0.         0.        ]\n",
      " [0.07743877 0.         0.         ... 0.         0.         0.        ]\n",
      " [0.         0.         0.         ... 0.         0.         0.        ]]\n",
      "{'Mortgage': 0, 'Checking or savings account': 1, 'Debt collection': 2, 'Vehicle loan or lease': 3, 'Student loan': 4, 'Money transfer, virtual currency, or money service': 5, 'Credit reporting': 6, 'Credit card': 7, 'Consumer Loan': 8, 'Bank account or service': 9, 'Payday loan': 10, 'Prepaid card': 11, 'Money transfers': 12, 'Other financial service': 13}\n"
     ]
    }
   ],
   "source": [
    "from sklearn.feature_extraction.text import TfidfVectorizer\n",
    "tfidf = TfidfVectorizer(sublinear_tf=True, min_df=5, norm='l2', encoding='latin-1', ngram_range=(1, 2), stop_words='english')\n",
    "features = tfidf.fit_transform(X).toarray()\n",
    "labels = sel_df_cat.category_id\n",
    "features.shape\n",
    "print(features)\n",
    "print(category_to_id)"
   ]
  },
  {
   "cell_type": "code",
   "execution_count": 14,
   "metadata": {
    "_uuid": "f27d000949c1e65cf1231169bab69575aa706295",
    "scrolled": false
   },
   "outputs": [
    {
     "name": "stderr",
     "output_type": "stream",
     "text": [
      "/opt/anaconda3/lib/python3.7/site-packages/sklearn/utils/deprecation.py:87: FutureWarning: Function get_feature_names is deprecated; get_feature_names is deprecated in 1.0 and will be removed in 1.2. Please use get_feature_names_out instead.\n",
      "  warnings.warn(msg, category=FutureWarning)\n"
     ]
    },
    {
     "name": "stdout",
     "output_type": "stream",
     "text": [
      "['cours' 'fraud' 'seek' ... 'check acct' 'citigold' 'want answer']\n",
      "# 'Bank account or service':\n",
      "  . Most correlated unigrams:\n",
      ". gold\n",
      ". citigold\n",
      "  . Most correlated bigrams:\n",
      ". check acct\n",
      ". want answer\n"
     ]
    },
    {
     "name": "stderr",
     "output_type": "stream",
     "text": [
      "/opt/anaconda3/lib/python3.7/site-packages/sklearn/utils/deprecation.py:87: FutureWarning: Function get_feature_names is deprecated; get_feature_names is deprecated in 1.0 and will be removed in 1.2. Please use get_feature_names_out instead.\n",
      "  warnings.warn(msg, category=FutureWarning)\n"
     ]
    },
    {
     "name": "stdout",
     "output_type": "stream",
     "text": [
      "['provid date' 'address list' 'job offer' ... 'check account' 'bank'\n",
      " 'deposit']\n",
      "# 'Checking or savings account':\n",
      "  . Most correlated unigrams:\n",
      ". bank\n",
      ". deposit\n",
      "  . Most correlated bigrams:\n",
      ". close account\n",
      ". check account\n"
     ]
    },
    {
     "name": "stderr",
     "output_type": "stream",
     "text": [
      "/opt/anaconda3/lib/python3.7/site-packages/sklearn/utils/deprecation.py:87: FutureWarning: Function get_feature_names is deprecated; get_feature_names is deprecated in 1.0 and will be removed in 1.2. Please use get_feature_names_out instead.\n",
      "  warnings.warn(msg, category=FutureWarning)\n"
     ]
    },
    {
     "name": "stdout",
     "output_type": "stream",
     "text": [
      "['privat' 'alreadi' 'mani time' ... 'finaci' 'prosper' 'toyota']\n",
      "# 'Consumer Loan':\n",
      "  . Most correlated unigrams:\n",
      ". prosper\n",
      ". toyota\n",
      "  . Most correlated bigrams:\n",
      ". repres compani\n",
      ". loan everi\n"
     ]
    },
    {
     "name": "stderr",
     "output_type": "stream",
     "text": [
      "/opt/anaconda3/lib/python3.7/site-packages/sklearn/utils/deprecation.py:87: FutureWarning: Function get_feature_names is deprecated; get_feature_names is deprecated in 1.0 and will be removed in 1.2. Please use get_feature_names_out instead.\n",
      "  warnings.warn(msg, category=FutureWarning)\n"
     ]
    },
    {
     "name": "stdout",
     "output_type": "stream",
     "text": [
      "['bought' 'held' 'pin' ... 'card year' 'barclay' 'maci']\n",
      "# 'Credit card':\n",
      "  . Most correlated unigrams:\n",
      ". barclay\n",
      ". maci\n",
      "  . Most correlated bigrams:\n",
      ". american express\n",
      ". card year\n"
     ]
    },
    {
     "name": "stderr",
     "output_type": "stream",
     "text": [
      "/opt/anaconda3/lib/python3.7/site-packages/sklearn/utils/deprecation.py:87: FutureWarning: Function get_feature_names is deprecated; get_feature_names is deprecated in 1.0 and will be removed in 1.2. Please use get_feature_names_out instead.\n",
      "  warnings.warn(msg, category=FutureWarning)\n"
     ]
    },
    {
     "name": "stdout",
     "output_type": "stream",
     "text": [
      "['numer time' 'use' 'spoke repres' ... 'experian' 'transunion' 'equifax']\n",
      "# 'Credit reporting':\n",
      "  . Most correlated unigrams:\n",
      ". transunion\n",
      ". equifax\n",
      "  . Most correlated bigrams:\n",
      ". report equifax\n",
      ". contact equifax\n"
     ]
    },
    {
     "name": "stderr",
     "output_type": "stream",
     "text": [
      "/opt/anaconda3/lib/python3.7/site-packages/sklearn/utils/deprecation.py:87: FutureWarning: Function get_feature_names is deprecated; get_feature_names is deprecated in 1.0 and will be removed in 1.2. Please use get_feature_names_out instead.\n",
      "  warnings.warn(msg, category=FutureWarning)\n"
     ]
    },
    {
     "name": "stdout",
     "output_type": "stream",
     "text": [
      "['time confirm' 'bed' 'polic offic' ... 'credit report' 'collect' 'debt']\n",
      "# 'Debt collection':\n",
      "  . Most correlated unigrams:\n",
      ". collect\n",
      ". debt\n",
      "  . Most correlated bigrams:\n",
      ". collect agenc\n",
      ". credit report\n"
     ]
    },
    {
     "name": "stderr",
     "output_type": "stream",
     "text": [
      "/opt/anaconda3/lib/python3.7/site-packages/sklearn/utils/deprecation.py:87: FutureWarning: Function get_feature_names is deprecated; get_feature_names is deprecated in 1.0 and will be removed in 1.2. Please use get_feature_names_out instead.\n",
      "  warnings.warn(msg, category=FutureWarning)\n"
     ]
    },
    {
     "name": "stdout",
     "output_type": "stream",
     "text": [
      "['year account' 'mail date' 'action' ... 'paypal account' 'coinbas'\n",
      " 'paypal']\n",
      "# 'Money transfer, virtual currency, or money service':\n",
      "  . Most correlated unigrams:\n",
      ". coinbas\n",
      ". paypal\n",
      "  . Most correlated bigrams:\n",
      ". use paypal\n",
      ". paypal account\n"
     ]
    },
    {
     "name": "stderr",
     "output_type": "stream",
     "text": [
      "/opt/anaconda3/lib/python3.7/site-packages/sklearn/utils/deprecation.py:87: FutureWarning: Function get_feature_names is deprecated; get_feature_names is deprecated in 1.0 and will be removed in 1.2. Please use get_feature_names_out instead.\n",
      "  warnings.warn(msg, category=FutureWarning)\n"
     ]
    },
    {
     "name": "stdout",
     "output_type": "stream",
     "text": [
      "['check' 'ensur accuraci' 'oh' ... 'money miss' 'onlin transfer'\n",
      " 'miss account']\n",
      "# 'Money transfers':\n",
      "  . Most correlated unigrams:\n",
      ". aka\n",
      ". qualiti\n",
      "  . Most correlated bigrams:\n",
      ". onlin transfer\n",
      ". miss account\n"
     ]
    },
    {
     "name": "stderr",
     "output_type": "stream",
     "text": [
      "/opt/anaconda3/lib/python3.7/site-packages/sklearn/utils/deprecation.py:87: FutureWarning: Function get_feature_names is deprecated; get_feature_names is deprecated in 1.0 and will be removed in 1.2. Please use get_feature_names_out instead.\n",
      "  warnings.warn(msg, category=FutureWarning)\n"
     ]
    },
    {
     "name": "stdout",
     "output_type": "stream",
     "text": [
      "['got transfer' 'undisclos' 'later sent' ... 'modif' 'escrow' 'mortgag']\n",
      "# 'Mortgage':\n",
      "  . Most correlated unigrams:\n",
      ". escrow\n",
      ". mortgag\n",
      "  . Most correlated bigrams:\n",
      ". mortgag payment\n",
      ". mortgag compani\n"
     ]
    },
    {
     "name": "stderr",
     "output_type": "stream",
     "text": [
      "/opt/anaconda3/lib/python3.7/site-packages/sklearn/utils/deprecation.py:87: FutureWarning: Function get_feature_names is deprecated; get_feature_names is deprecated in 1.0 and will be removed in 1.2. Please use get_feature_names_out instead.\n",
      "  warnings.warn(msg, category=FutureWarning)\n"
     ]
    },
    {
     "name": "stdout",
     "output_type": "stream",
     "text": [
      "['ensur accuraci' 'oh' 'measur ensur' ... 'chang date' 'wait pay'\n",
      " 'month immedi']\n",
      "# 'Other financial service':\n",
      "  . Most correlated unigrams:\n",
      ". regret\n",
      ". conn\n",
      "  . Most correlated bigrams:\n",
      ". wait pay\n",
      ". month immedi\n"
     ]
    },
    {
     "name": "stderr",
     "output_type": "stream",
     "text": [
      "/opt/anaconda3/lib/python3.7/site-packages/sklearn/utils/deprecation.py:87: FutureWarning: Function get_feature_names is deprecated; get_feature_names is deprecated in 1.0 and will be removed in 1.2. Please use get_feature_names_out instead.\n",
      "  warnings.warn(msg, category=FutureWarning)\n"
     ]
    },
    {
     "name": "stdout",
     "output_type": "stream",
     "text": [
      "['new' 'attempt' 'answer' ... 'payday loan' 'want compani' 'payday']\n",
      "# 'Payday loan':\n",
      "  . Most correlated unigrams:\n",
      ". hawaii\n",
      ". payday\n",
      "  . Most correlated bigrams:\n",
      ". payday loan\n",
      ". want compani\n"
     ]
    },
    {
     "name": "stderr",
     "output_type": "stream",
     "text": [
      "/opt/anaconda3/lib/python3.7/site-packages/sklearn/utils/deprecation.py:87: FutureWarning: Function get_feature_names is deprecated; get_feature_names is deprecated in 1.0 and will be removed in 1.2. Please use get_feature_names_out instead.\n",
      "  warnings.warn(msg, category=FutureWarning)\n"
     ]
    },
    {
     "name": "stdout",
     "output_type": "stream",
     "text": [
      "['servic' 'remov' 'ensur accuraci' ... 'card howev' 'prosecut'\n",
      " 'alreadi account']\n",
      "# 'Prepaid card':\n",
      "  . Most correlated unigrams:\n",
      ". load\n",
      ". prosecut\n",
      "  . Most correlated bigrams:\n",
      ". card howev\n",
      ". alreadi account\n"
     ]
    },
    {
     "name": "stderr",
     "output_type": "stream",
     "text": [
      "/opt/anaconda3/lib/python3.7/site-packages/sklearn/utils/deprecation.py:87: FutureWarning: Function get_feature_names is deprecated; get_feature_names is deprecated in 1.0 and will be removed in 1.2. Please use get_feature_names_out instead.\n",
      "  warnings.warn(msg, category=FutureWarning)\n"
     ]
    },
    {
     "name": "stdout",
     "output_type": "stream",
     "text": [
      "['consent' 'drawn' 'prioriti' ... 'student loan' 'student' 'navient']\n",
      "# 'Student loan':\n",
      "  . Most correlated unigrams:\n",
      ". student\n",
      ". navient\n",
      "  . Most correlated bigrams:\n",
      ". salli mae\n",
      ". student loan\n",
      "['card card' 'assigne' 'horribl' ... 'dealership' 'vehicl' 'car']\n",
      "# 'Vehicle loan or lease':\n",
      "  . Most correlated unigrams:\n",
      ". vehicl\n",
      ". car\n",
      "  . Most correlated bigrams:\n",
      ". car loan\n",
      ". purchas vehicl\n"
     ]
    },
    {
     "name": "stderr",
     "output_type": "stream",
     "text": [
      "/opt/anaconda3/lib/python3.7/site-packages/sklearn/utils/deprecation.py:87: FutureWarning: Function get_feature_names is deprecated; get_feature_names is deprecated in 1.0 and will be removed in 1.2. Please use get_feature_names_out instead.\n",
      "  warnings.warn(msg, category=FutureWarning)\n"
     ]
    }
   ],
   "source": [
    "from sklearn.feature_selection import chi2\n",
    "\n",
    "N = 2\n",
    "for Product, category_id in sorted(category_to_id.items()):\n",
    "  features_chi2 = chi2(features, labels == category_id)\n",
    "  indices = np.argsort(features_chi2[0])\n",
    "  feature_names = np.array(tfidf.get_feature_names())[indices]\n",
    "  print(feature_names)\n",
    "  unigrams = [v for v in feature_names if len(v.split(' ')) == 1]\n",
    "  bigrams = [v for v in feature_names if len(v.split(' ')) == 2]\n",
    "  print(\"# '{}':\".format(Product))\n",
    "  print(\"  . Most correlated unigrams:\\n. {}\".format('\\n. '.join(unigrams[-N:])))\n",
    "  print(\"  . Most correlated bigrams:\\n. {}\".format('\\n. '.join(bigrams[-N:])))"
   ]
  },
  {
   "cell_type": "code",
   "execution_count": 15,
   "metadata": {
    "_uuid": "94f5c45b8fdb181b651bf5557b908e6bd505a19a"
   },
   "outputs": [],
   "source": [
    "from sklearn.svm import LinearSVC\n",
    "from sklearn.model_selection import train_test_split\n",
    "\n",
    "model = LinearSVC()\n",
    "X_train, X_test, y_train, y_test, indices_train, indices_test = train_test_split(features, labels, sel_df_cat.index, test_size=0.33, random_state=0)\n",
    "model.fit(X_train, y_train)\n",
    "y_pred = model.predict(X_test)"
   ]
  },
  {
   "cell_type": "code",
   "execution_count": 16,
   "metadata": {
    "_uuid": "97c77df7938de9f3754a0877005b188ea4476946"
   },
   "outputs": [
    {
     "name": "stdout",
     "output_type": "stream",
     "text": [
      "0.8641774891774892\n"
     ]
    },
    {
     "data": {
      "image/png": "[encoded data removed]",
      "text/plain": [
       "<Figure size 720x720 with 2 Axes>"
      ]
     },
     "metadata": {
      "needs_background": "light"
     },
     "output_type": "display_data"
    }
   ],
   "source": [
    "from sklearn.metrics import confusion_matrix, accuracy_score, classification_report\n",
    "print(accuracy_score(y_test, y_pred))\n",
    "\n",
    "conf_mat = confusion_matrix(y_test, y_pred)\n",
    "fig, ax = plt.subplots(figsize=(10,10))\n",
    "sns.heatmap(conf_mat, annot=True, fmt='d',\n",
    "            xticklabels=category_id_df.Product.values, yticklabels=category_id_df.Product.values)\n",
    "plt.ylabel('Actual')\n",
    "plt.xlabel('Predicted')\n",
    "plt.show()"
   ]
  },
  {
   "cell_type": "code",
   "execution_count": 18,
   "metadata": {
    "_uuid": "5a7a17797b6310ac09cbbc290aaabd6a587d01a5"
   },
   "outputs": [],
   "source": [
    "from sklearn.feature_extraction.text import CountVectorizer\n",
    "from sklearn.feature_extraction.text import TfidfTransformer\n",
    "from sklearn.naive_bayes import MultinomialNB\n",
    "\n",
    "X_train, X_test, y_train, y_test = train_test_split(sel_df_cat['Consumer complaint narrative'], sel_df_cat['Product'], random_state = 0)\n",
    "count_vect = CountVectorizer()\n",
    "X_train_counts = count_vect.fit_transform(X_train)\n",
    "tfidf_transformer = TfidfTransformer()\n",
    "X_train_tfidf = tfidf_transformer.fit_transform(X_train_counts)\n",
    "clf = MultinomialNB().fit(X_train_tfidf, y_train)"
   ]
  },
  {
   "cell_type": "code",
   "execution_count": 19,
   "metadata": {
    "_uuid": "c3a7f27c4b7a507f86f0b5c26b80c8b2cceb95e8"
   },
   "outputs": [
    {
     "data": {
      "text/html": [
       "<div>\n",
       "<style scoped>\n",
       "    .dataframe tbody tr th:only-of-type {\n",
       "        vertical-align: middle;\n",
       "    }\n",
       "\n",
       "    .dataframe tbody tr th {\n",
       "        vertical-align: top;\n",
       "    }\n",
       "\n",
       "    .dataframe thead th {\n",
       "        text-align: right;\n",
       "    }\n",
       "</style>\n",
       "<table border=\"1\" class=\"dataframe\">\n",
       "  <thead>\n",
       "    <tr style=\"text-align: right;\">\n",
       "      <th></th>\n",
       "      <th>Product</th>\n",
       "      <th>Consumer complaint narrative</th>\n",
       "      <th>category_id</th>\n",
       "    </tr>\n",
       "  </thead>\n",
       "  <tbody>\n",
       "    <tr>\n",
       "      <th>11</th>\n",
       "      <td>Mortgage</td>\n",
       "      <td>I applied for XXXX XXXX XXXX ( XXXX ) and got ...</td>\n",
       "      <td>0</td>\n",
       "    </tr>\n",
       "    <tr>\n",
       "      <th>31</th>\n",
       "      <td>Checking or savings account</td>\n",
       "      <td>On XXXX, I logged into my mobile banking app f...</td>\n",
       "      <td>1</td>\n",
       "    </tr>\n",
       "    <tr>\n",
       "      <th>663</th>\n",
       "      <td>Debt collection</td>\n",
       "      <td>I noticed this reported as a collection on my ...</td>\n",
       "      <td>2</td>\n",
       "    </tr>\n",
       "    <tr>\n",
       "      <th>664</th>\n",
       "      <td>Checking or savings account</td>\n",
       "      <td>On XX/XX/2022, XXXX payments were presented ag...</td>\n",
       "      <td>1</td>\n",
       "    </tr>\n",
       "    <tr>\n",
       "      <th>665</th>\n",
       "      <td>Debt collection</td>\n",
       "      <td>Today XX/XX/2022 i told them to put me on thei...</td>\n",
       "      <td>2</td>\n",
       "    </tr>\n",
       "    <tr>\n",
       "      <th>732</th>\n",
       "      <td>Vehicle loan or lease</td>\n",
       "      <td>The loan has been paid off over a month and I ...</td>\n",
       "      <td>3</td>\n",
       "    </tr>\n",
       "    <tr>\n",
       "      <th>739</th>\n",
       "      <td>Debt collection</td>\n",
       "      <td>The amount listed was already paid by my denta...</td>\n",
       "      <td>2</td>\n",
       "    </tr>\n",
       "    <tr>\n",
       "      <th>785</th>\n",
       "      <td>Vehicle loan or lease</td>\n",
       "      <td>I purchased a XXXX XXXX threw XXXX XXXX XXXX i...</td>\n",
       "      <td>3</td>\n",
       "    </tr>\n",
       "    <tr>\n",
       "      <th>815</th>\n",
       "      <td>Checking or savings account</td>\n",
       "      <td>I had an incorrect charge and Duplicate charge...</td>\n",
       "      <td>1</td>\n",
       "    </tr>\n",
       "    <tr>\n",
       "      <th>834</th>\n",
       "      <td>Mortgage</td>\n",
       "      <td>Received letter from Caliber dated XX/XX/22 st...</td>\n",
       "      <td>0</td>\n",
       "    </tr>\n",
       "  </tbody>\n",
       "</table>\n",
       "</div>"
      ],
      "text/plain": [
       "                         Product  \\\n",
       "11                      Mortgage   \n",
       "31   Checking or savings account   \n",
       "663              Debt collection   \n",
       "664  Checking or savings account   \n",
       "665              Debt collection   \n",
       "732        Vehicle loan or lease   \n",
       "739              Debt collection   \n",
       "785        Vehicle loan or lease   \n",
       "815  Checking or savings account   \n",
       "834                     Mortgage   \n",
       "\n",
       "                          Consumer complaint narrative  category_id  \n",
       "11   I applied for XXXX XXXX XXXX ( XXXX ) and got ...            0  \n",
       "31   On XXXX, I logged into my mobile banking app f...            1  \n",
       "663  I noticed this reported as a collection on my ...            2  \n",
       "664  On XX/XX/2022, XXXX payments were presented ag...            1  \n",
       "665  Today XX/XX/2022 i told them to put me on thei...            2  \n",
       "732  The loan has been paid off over a month and I ...            3  \n",
       "739  The amount listed was already paid by my denta...            2  \n",
       "785  I purchased a XXXX XXXX threw XXXX XXXX XXXX i...            3  \n",
       "815  I had an incorrect charge and Duplicate charge...            1  \n",
       "834  Received letter from Caliber dated XX/XX/22 st...            0  "
      ]
     },
     "execution_count": 19,
     "metadata": {},
     "output_type": "execute_result"
    }
   ],
   "source": [
    "sel_df_cat.head(10)"
   ]
  },
  {
   "cell_type": "code",
   "execution_count": 20,
   "metadata": {
    "_uuid": "0e91da855b4f5c71867a293311bc1a9483ce428f"
   },
   "outputs": [
    {
     "name": "stdout",
     "output_type": "stream",
     "text": [
      "              Product                       Consumer complaint narrative\n",
      "663   Debt collection  I noticed this reported as a collection on my ...\n",
      "665   Debt collection  Today XX/XX/2022 i told them to put me on thei...\n",
      "739   Debt collection  The amount listed was already paid by my denta...\n",
      "846   Debt collection  The same criminal acts by some person or perso...\n",
      "955   Debt collection  I have sent in numerous of letters an FTC repo...\n",
      "1486  Debt collection  I have a credit card with Amazon for XXXX. I n...\n",
      "1503  Debt collection  I have sent in numerous of letters an FTC repo...\n",
      "1601  Debt collection  the company is CREDIT ACCEPTANCE CORP Date ope...\n",
      "1632  Debt collection  PayPal- {$400.00}. Illegally incarcerated. The...\n",
      "1794  Debt collection  I have sent in numerous of letters an FTC repo...\n"
     ]
    }
   ],
   "source": [
    "debt_collection = sel_df[sel_df['Product'] == \"Debt collection\"].head(10)\n",
    "print(debt_collection)"
   ]
  },
  {
   "cell_type": "code",
   "execution_count": 21,
   "metadata": {
    "_uuid": "56e2f450d9f7cb18f0fd71baf4dfbaed3e3a8654"
   },
   "outputs": [
    {
     "name": "stdout",
     "output_type": "stream",
     "text": [
      "['Debt collection' 'Debt collection' 'Debt collection' 'Debt collection'\n",
      " 'Debt collection' 'Debt collection' 'Debt collection' 'Debt collection'\n",
      " 'Debt collection' 'Debt collection']\n"
     ]
    }
   ],
   "source": [
    "print(clf.predict(count_vect.transform(debt_collection['Consumer complaint narrative'])))"
   ]
  },
  {
   "cell_type": "code",
   "execution_count": 22,
   "metadata": {
    "_uuid": "bead1c93bcc9323bad11f1d99b7ef02cd25cfdd7"
   },
   "outputs": [
    {
     "name": "stdout",
     "output_type": "stream",
     "text": [
      "            Product                       Consumer complaint narrative\n",
      "2554   Student loan  I am resubmitting a compliant about Sallie Mae...\n",
      "6414   Student loan  I have not been updated on the status of publi...\n",
      "7670   Student loan  Earlier in XXXX I enrolled in a program with S...\n",
      "8925   Student loan  Zuntafi XXXX  for future pilots does not menti...\n",
      "10885  Student loan  On XX/XX/2022, FedStudentLoan Servicing, PHEAA...\n",
      "10995  Student loan  I attended a XXXX XXXX XXXX university from XX...\n",
      "11754  Student loan  Sent this affidavit to Sallie Mae Bank in rega...\n",
      "11813  Student loan  Towards the end of XXXX/beginning of XXXX, I w...\n",
      "13168  Student loan  The only student loans that I took out was whe...\n",
      "13195  Student loan  I recieved a phone call from Navient about stu...\n"
     ]
    }
   ],
   "source": [
    "student_loan = sel_df[sel_df['Product'] == \"Student loan\"].head(10)\n",
    "print(student_loan)"
   ]
  },
  {
   "cell_type": "code",
   "execution_count": 23,
   "metadata": {
    "_uuid": "ccfcae3f582ef4a151dd447002d592a477799332"
   },
   "outputs": [
    {
     "name": "stdout",
     "output_type": "stream",
     "text": [
      "['Debt collection' 'Debt collection' 'Debt collection' 'Debt collection'\n",
      " 'Debt collection' 'Debt collection' 'Debt collection' 'Debt collection'\n",
      " 'Debt collection' 'Debt collection']\n"
     ]
    }
   ],
   "source": [
    "print(clf.predict(count_vect.transform(student_loan['Consumer complaint narrative'])))"
   ]
  },
  {
   "cell_type": "code",
   "execution_count": 24,
   "metadata": {
    "_uuid": "fad0fa78bb729f63c34e05aac62e52b1764908d2"
   },
   "outputs": [
    {
     "name": "stderr",
     "output_type": "stream",
     "text": [
      "Using TensorFlow backend.\n"
     ]
    }
   ],
   "source": [
    "# Deep Learning libs import\n",
    "\n",
    "from sklearn.preprocessing import LabelEncoder, OneHotEncoder\n",
    "from keras.models import Sequential, Model\n",
    "from keras.layers import LSTM, Activation, Dense, Dropout, Input, Embedding, Conv1D, GlobalMaxPooling1D, MaxPooling1D\n",
    "from keras.optimizers import RMSprop\n",
    "from keras.preprocessing.text import Tokenizer\n",
    "from keras.preprocessing import sequence\n",
    "from keras.utils import to_categorical\n",
    "from keras.callbacks import EarlyStopping\n",
    "\n",
    "%matplotlib inline"
   ]
  },
  {
   "cell_type": "code",
   "execution_count": 25,
   "metadata": {
    "_uuid": "b7b1e1dfeecf9d51cbd98b94756c70cd3d37abfe"
   },
   "outputs": [
    {
     "name": "stdout",
     "output_type": "stream",
     "text": [
      "(500000, 18)\n"
     ]
    },
    {
     "name": "stderr",
     "output_type": "stream",
     "text": [
      "/opt/anaconda3/lib/python3.7/site-packages/IPython/core/interactiveshell.py:3326: DtypeWarning: Columns (9,16) have mixed types.Specify dtype option on import or set low_memory=False.\n",
      "  exec(code_obj, self.user_global_ns, self.user_ns)\n"
     ]
    },
    {
     "data": {
      "text/html": [
       "<div>\n",
       "<style scoped>\n",
       "    .dataframe tbody tr th:only-of-type {\n",
       "        vertical-align: middle;\n",
       "    }\n",
       "\n",
       "    .dataframe tbody tr th {\n",
       "        vertical-align: top;\n",
       "    }\n",
       "\n",
       "    .dataframe thead th {\n",
       "        text-align: right;\n",
       "    }\n",
       "</style>\n",
       "<table border=\"1\" class=\"dataframe\">\n",
       "  <thead>\n",
       "    <tr style=\"text-align: right;\">\n",
       "      <th></th>\n",
       "      <th>Date received</th>\n",
       "      <th>Product</th>\n",
       "      <th>Sub-product</th>\n",
       "      <th>Issue</th>\n",
       "      <th>Sub-issue</th>\n",
       "      <th>Consumer complaint narrative</th>\n",
       "      <th>Company public response</th>\n",
       "      <th>Company</th>\n",
       "      <th>State</th>\n",
       "      <th>ZIP code</th>\n",
       "      <th>Tags</th>\n",
       "      <th>Consumer consent provided?</th>\n",
       "      <th>Submitted via</th>\n",
       "      <th>Date sent to company</th>\n",
       "      <th>Company response to consumer</th>\n",
       "      <th>Timely response?</th>\n",
       "      <th>Consumer disputed?</th>\n",
       "      <th>Complaint ID</th>\n",
       "    </tr>\n",
       "  </thead>\n",
       "  <tbody>\n",
       "    <tr>\n",
       "      <th>0</th>\n",
       "      <td>2022-08-11</td>\n",
       "      <td>Credit reporting, credit repair services, or o...</td>\n",
       "      <td>Credit reporting</td>\n",
       "      <td>Improper use of your report</td>\n",
       "      <td>Reporting company used your report improperly</td>\n",
       "      <td>NaN</td>\n",
       "      <td>NaN</td>\n",
       "      <td>EQUIFAX, INC.</td>\n",
       "      <td>IL</td>\n",
       "      <td>60431.0</td>\n",
       "      <td>NaN</td>\n",
       "      <td>NaN</td>\n",
       "      <td>Web</td>\n",
       "      <td>2022-08-11</td>\n",
       "      <td>Closed with explanation</td>\n",
       "      <td>Yes</td>\n",
       "      <td>NaN</td>\n",
       "      <td>5868234</td>\n",
       "    </tr>\n",
       "    <tr>\n",
       "      <th>1</th>\n",
       "      <td>2022-06-20</td>\n",
       "      <td>Credit reporting, credit repair services, or o...</td>\n",
       "      <td>Credit reporting</td>\n",
       "      <td>Problem with a credit reporting company's inve...</td>\n",
       "      <td>Was not notified of investigation status or re...</td>\n",
       "      <td>Hi, I can't believe you guys are taking advant...</td>\n",
       "      <td>Company has responded to the consumer and the ...</td>\n",
       "      <td>Experian Information Solutions Inc.</td>\n",
       "      <td>AL</td>\n",
       "      <td>35211.0</td>\n",
       "      <td>NaN</td>\n",
       "      <td>Consent provided</td>\n",
       "      <td>Web</td>\n",
       "      <td>2022-06-20</td>\n",
       "      <td>Closed with non-monetary relief</td>\n",
       "      <td>Yes</td>\n",
       "      <td>NaN</td>\n",
       "      <td>5687460</td>\n",
       "    </tr>\n",
       "    <tr>\n",
       "      <th>2</th>\n",
       "      <td>2022-08-12</td>\n",
       "      <td>Credit reporting, credit repair services, or o...</td>\n",
       "      <td>Credit reporting</td>\n",
       "      <td>Incorrect information on your report</td>\n",
       "      <td>Information belongs to someone else</td>\n",
       "      <td>NaN</td>\n",
       "      <td>NaN</td>\n",
       "      <td>Experian Information Solutions Inc.</td>\n",
       "      <td>TX</td>\n",
       "      <td>78227.0</td>\n",
       "      <td>NaN</td>\n",
       "      <td>NaN</td>\n",
       "      <td>Web</td>\n",
       "      <td>2022-08-12</td>\n",
       "      <td>In progress</td>\n",
       "      <td>Yes</td>\n",
       "      <td>NaN</td>\n",
       "      <td>5873290</td>\n",
       "    </tr>\n",
       "    <tr>\n",
       "      <th>3</th>\n",
       "      <td>2022-08-10</td>\n",
       "      <td>Debt collection</td>\n",
       "      <td>Other debt</td>\n",
       "      <td>Attempts to collect debt not owed</td>\n",
       "      <td>Debt was paid</td>\n",
       "      <td>NaN</td>\n",
       "      <td>NaN</td>\n",
       "      <td>CONTRACT CALLERS INC</td>\n",
       "      <td>NY</td>\n",
       "      <td>10016.0</td>\n",
       "      <td>NaN</td>\n",
       "      <td>NaN</td>\n",
       "      <td>Web</td>\n",
       "      <td>2022-08-10</td>\n",
       "      <td>Closed with explanation</td>\n",
       "      <td>Yes</td>\n",
       "      <td>NaN</td>\n",
       "      <td>5864261</td>\n",
       "    </tr>\n",
       "    <tr>\n",
       "      <th>4</th>\n",
       "      <td>2022-08-19</td>\n",
       "      <td>Debt collection</td>\n",
       "      <td>Credit card debt</td>\n",
       "      <td>Attempts to collect debt not owed</td>\n",
       "      <td>Debt was already discharged in bankruptcy and ...</td>\n",
       "      <td>NaN</td>\n",
       "      <td>NaN</td>\n",
       "      <td>NAVY FEDERAL CREDIT UNION</td>\n",
       "      <td>FL</td>\n",
       "      <td>33414.0</td>\n",
       "      <td>Servicemember</td>\n",
       "      <td>NaN</td>\n",
       "      <td>Web</td>\n",
       "      <td>2022-08-19</td>\n",
       "      <td>In progress</td>\n",
       "      <td>Yes</td>\n",
       "      <td>NaN</td>\n",
       "      <td>5895588</td>\n",
       "    </tr>\n",
       "  </tbody>\n",
       "</table>\n",
       "</div>"
      ],
      "text/plain": [
       "  Date received                                            Product  \\\n",
       "0    2022-08-11  Credit reporting, credit repair services, or o...   \n",
       "1    2022-06-20  Credit reporting, credit repair services, or o...   \n",
       "2    2022-08-12  Credit reporting, credit repair services, or o...   \n",
       "3    2022-08-10                                    Debt collection   \n",
       "4    2022-08-19                                    Debt collection   \n",
       "\n",
       "        Sub-product                                              Issue  \\\n",
       "0  Credit reporting                        Improper use of your report   \n",
       "1  Credit reporting  Problem with a credit reporting company's inve...   \n",
       "2  Credit reporting               Incorrect information on your report   \n",
       "3        Other debt                  Attempts to collect debt not owed   \n",
       "4  Credit card debt                  Attempts to collect debt not owed   \n",
       "\n",
       "                                           Sub-issue  \\\n",
       "0      Reporting company used your report improperly   \n",
       "1  Was not notified of investigation status or re...   \n",
       "2                Information belongs to someone else   \n",
       "3                                      Debt was paid   \n",
       "4  Debt was already discharged in bankruptcy and ...   \n",
       "\n",
       "                        Consumer complaint narrative  \\\n",
       "0                                                NaN   \n",
       "1  Hi, I can't believe you guys are taking advant...   \n",
       "2                                                NaN   \n",
       "3                                                NaN   \n",
       "4                                                NaN   \n",
       "\n",
       "                             Company public response  \\\n",
       "0                                                NaN   \n",
       "1  Company has responded to the consumer and the ...   \n",
       "2                                                NaN   \n",
       "3                                                NaN   \n",
       "4                                                NaN   \n",
       "\n",
       "                               Company State ZIP code           Tags  \\\n",
       "0                        EQUIFAX, INC.    IL  60431.0            NaN   \n",
       "1  Experian Information Solutions Inc.    AL  35211.0            NaN   \n",
       "2  Experian Information Solutions Inc.    TX  78227.0            NaN   \n",
       "3                 CONTRACT CALLERS INC    NY  10016.0            NaN   \n",
       "4            NAVY FEDERAL CREDIT UNION    FL  33414.0  Servicemember   \n",
       "\n",
       "  Consumer consent provided? Submitted via Date sent to company  \\\n",
       "0                        NaN           Web           2022-08-11   \n",
       "1           Consent provided           Web           2022-06-20   \n",
       "2                        NaN           Web           2022-08-12   \n",
       "3                        NaN           Web           2022-08-10   \n",
       "4                        NaN           Web           2022-08-19   \n",
       "\n",
       "      Company response to consumer Timely response? Consumer disputed?  \\\n",
       "0          Closed with explanation              Yes                NaN   \n",
       "1  Closed with non-monetary relief              Yes                NaN   \n",
       "2                      In progress              Yes                NaN   \n",
       "3          Closed with explanation              Yes                NaN   \n",
       "4                      In progress              Yes                NaN   \n",
       "\n",
       "   Complaint ID  \n",
       "0       5868234  \n",
       "1       5687460  \n",
       "2       5873290  \n",
       "3       5864261  \n",
       "4       5895588  "
      ]
     },
     "execution_count": 25,
     "metadata": {},
     "output_type": "execute_result"
    }
   ],
   "source": [
    "df = pd.read_csv('complaints.csv', nrows=500000) #taking more large size\n",
    "print(df.shape)\n",
    "df.head()"
   ]
  },
  {
   "cell_type": "code",
   "execution_count": 26,
   "metadata": {
    "_uuid": "e44fd15a2fbac924a0c69c6bea6415962499939c"
   },
   "outputs": [
    {
     "data": {
      "text/plain": [
       "Debt collection                                       23176\n",
       "Mortgage                                              10526\n",
       "Checking or savings account                           10001\n",
       "Money transfer, virtual currency, or money service     4430\n",
       "Vehicle loan or lease                                  3026\n",
       "Student loan                                           2901\n",
       "Credit reporting                                        712\n",
       "Credit card                                             482\n",
       "Bank account or service                                 414\n",
       "Consumer Loan                                           269\n",
       "Payday loan                                              49\n",
       "Prepaid card                                             34\n",
       "Money transfers                                          34\n",
       "Other financial service                                   9\n",
       "Name: Product, dtype: int64"
      ]
     },
     "execution_count": 26,
     "metadata": {},
     "output_type": "execute_result"
    }
   ],
   "source": [
    "sel_df = df.iloc[:, [1,5]]\n",
    "sel_df = sel_df.dropna()\n",
    "exclude = [\n",
    "    'Credit reporting, credit repair services, or other personal consumer reports', \n",
    "    'Credit card or prepaid card', \n",
    "    'Money transfer, virtual currency, or money service ',\n",
    "    'Payday loan, title loan, or personal loan'\n",
    "]\n",
    "sel_cat = sel_df.Product.isin(exclude)\n",
    "sel_df_cat = sel_df[~sel_cat] # select category not in the exclude categories \n",
    "sel_df_cat['Product'].value_counts()"
   ]
  },
  {
   "cell_type": "code",
   "execution_count": 27,
   "metadata": {
    "_uuid": "803e341206abdddc9609591952331cbe84b28705"
   },
   "outputs": [
    {
     "name": "stdout",
     "output_type": "stream",
     "text": [
      "(56063,)\n",
      "(56063,)\n"
     ]
    }
   ],
   "source": [
    "X = sel_df_cat['Consumer complaint narrative']\n",
    "y = sel_df_cat['Product']\n",
    "print(X.shape)\n",
    "print(y.shape)"
   ]
  },
  {
   "cell_type": "code",
   "execution_count": 28,
   "metadata": {
    "_uuid": "61aa8aa289d414ea74d16e11008462cfc833fba0"
   },
   "outputs": [
    {
     "name": "stdout",
     "output_type": "stream",
     "text": [
      "\n",
      "Cleaning time:  139.4 s\n"
     ]
    }
   ],
   "source": [
    "from time import time\n",
    "t0 = time()\n",
    "X = X.map(lambda x: clean_str(x))\n",
    "print (\"\\nCleaning time: \", round(time()-t0, 1), \"s\")"
   ]
  },
  {
   "cell_type": "code",
   "execution_count": 28,
   "metadata": {
    "_uuid": "7ef30457bb35ff01eb8d20eac65feb02505c2eab"
   },
   "outputs": [
    {
     "name": "stdout",
     "output_type": "stream",
     "text": [
      "WARNING:tensorflow:From <ipython-input-28-0eb673f01827>:5: VocabularyProcessor.__init__ (from tensorflow.contrib.learn.python.learn.preprocessing.text) is deprecated and will be removed in a future version.\n",
      "Instructions for updating:\n",
      "Please use tensorflow/transform or tf.data.\n",
      "WARNING:tensorflow:From /opt/conda/lib/python3.6/site-packages/tensorflow/contrib/learn/python/learn/preprocessing/text.py:154: CategoricalVocabulary.__init__ (from tensorflow.contrib.learn.python.learn.preprocessing.categorical_vocabulary) is deprecated and will be removed in a future version.\n",
      "Instructions for updating:\n",
      "Please use tensorflow/transform or tf.data.\n",
      "WARNING:tensorflow:From /opt/conda/lib/python3.6/site-packages/tensorflow/contrib/learn/python/learn/preprocessing/text.py:170: tokenizer (from tensorflow.contrib.learn.python.learn.preprocessing.text) is deprecated and will be removed in a future version.\n",
      "Instructions for updating:\n",
      "Please use tensorflow/transform or tf.data.\n"
     ]
    }
   ],
   "source": [
    "from tensorflow.contrib import learn\n",
    "\n",
    "# Preprocessing to encode the text to sequences\n",
    "max_doc_len = max([len(x.split(\" \")) for x in X])\n",
    "vocab_processor = learn.preprocessing.VocabularyProcessor(max_doc_len)\n",
    "vocab_processor.fit_transform(X)\n",
    "vocab_size=len(vocab_processor.vocabulary_)"
   ]
  },
  {
   "cell_type": "code",
   "execution_count": 29,
   "metadata": {
    "_uuid": "278ec196dbb471342ae08fc7171bbff133cf236c"
   },
   "outputs": [
    {
     "name": "stdout",
     "output_type": "stream",
     "text": [
      "1928\n",
      "42590\n"
     ]
    }
   ],
   "source": [
    "print(max_doc_len)\n",
    "print(vocab_size)"
   ]
  },
  {
   "cell_type": "code",
   "execution_count": 30,
   "metadata": {
    "_uuid": "01ce78085260f96ca0a4d7243298b3be8eafec1c"
   },
   "outputs": [
    {
     "name": "stdout",
     "output_type": "stream",
     "text": [
      "(105719, 1928)\n"
     ]
    }
   ],
   "source": [
    "token = Tokenizer(num_words=vocab_size, filters='!\"#$%&()*+,-./:;<=>?@[\\]^_`{|}~ ', lower=True, split=' ')\n",
    "token.fit_on_texts(X)\n",
    "X_train_seq = token.texts_to_sequences(X)\n",
    "X_train_seq = sequence.pad_sequences(X_train_seq, maxlen=max_doc_len)\n",
    "\n",
    "\n",
    "print(X_train_seq.shape)"
   ]
  },
  {
   "cell_type": "code",
   "execution_count": 31,
   "metadata": {
    "_uuid": "d3c453e8cdcf94480f9f7d188d0006fb105d1420"
   },
   "outputs": [
    {
     "name": "stdout",
     "output_type": "stream",
     "text": [
      "(array([ 0,  1,  2,  3,  4,  5,  6,  7,  8,  9, 10, 11, 12, 13, 14]), array([ 9182,   500,  5856, 11688, 20011, 26520,   103,   910, 21121,\n",
      "         177,  1104,   944,  7418,   175,    10]))\n",
      "[[0. 0. 0. ... 0. 0. 0.]\n",
      " [0. 0. 1. ... 0. 0. 0.]\n",
      " [0. 0. 0. ... 0. 0. 0.]\n",
      " ...\n",
      " [0. 0. 0. ... 0. 0. 0.]\n",
      " [0. 0. 1. ... 0. 0. 0.]\n",
      " [0. 0. 0. ... 0. 0. 0.]]\n",
      "(105719, 15)\n"
     ]
    }
   ],
   "source": [
    "le = LabelEncoder()\n",
    "y_en = le.fit_transform(y)\n",
    "print(np.unique(y_en, return_counts=True))\n",
    "\n",
    "y_en = to_categorical(y_en, num_classes= 15)\n",
    "print(y_en)\n",
    "print(y_en.shape)"
   ]
  },
  {
   "cell_type": "code",
   "execution_count": 32,
   "metadata": {
    "_uuid": "4d16057a0789b88188b9fe4a66bb6341921ba244"
   },
   "outputs": [
    {
     "name": "stdout",
     "output_type": "stream",
     "text": [
      "(89861, 1928)\n",
      "(89861, 15)\n",
      "(15858, 1928)\n",
      "(15858, 15)\n"
     ]
    }
   ],
   "source": [
    "X_train,X_test,y_train,y_test = train_test_split(X_train_seq, y_en,test_size=0.15)\n",
    "print(X_train.shape)\n",
    "print(y_train.shape)\n",
    "print(X_test.shape)\n",
    "print(y_test.shape)"
   ]
  },
  {
   "cell_type": "code",
   "execution_count": 33,
   "metadata": {
    "_uuid": "b2d1f49d5daaadc29edbed4d8db0a309c725600f"
   },
   "outputs": [],
   "source": [
    "max_features = vocab_size\n",
    "maxlen = max_doc_len\n",
    "embedding_dims = 50\n",
    "filters = 250\n",
    "kernel_size = 5\n",
    "hidden_dims = 250\n",
    "\n",
    "def ProductClassifier():\n",
    "    model = Sequential()\n",
    "    # Add embedding layer\n",
    "    model.add(Embedding(max_features,\n",
    "                        embedding_dims,\n",
    "                        input_length=maxlen))\n",
    "    model.add(Dropout(0.2))\n",
    "    \n",
    "    # Conv1D for filtering layer\n",
    "    model.add(Conv1D(filters,\n",
    "                     kernel_size,\n",
    "                     padding='valid',\n",
    "                     activation='relu',\n",
    "                     strides=1))\n",
    "    # max pooling:\n",
    "    model.add(GlobalMaxPooling1D())\n",
    "\n",
    "    # add a hidden layer:\n",
    "    model.add(Dense(hidden_dims))\n",
    "    model.add(Dropout(0.2))\n",
    "    model.add(Activation('relu'))\n",
    "\n",
    "    # Using Softmax for multiclass classifications\n",
    "    # model.add(Dense(18))\n",
    "    model.add(Dense(15))\n",
    "    model.add(Activation('softmax'))\n",
    "    return model"
   ]
  },
  {
   "cell_type": "code",
   "execution_count": 34,
   "metadata": {
    "_uuid": "ae2256f30c401bf43eef9e3daf38fdda589eebc9"
   },
   "outputs": [
    {
     "name": "stdout",
     "output_type": "stream",
     "text": [
      "_________________________________________________________________\n",
      "Layer (type)                 Output Shape              Param #   \n",
      "=================================================================\n",
      "embedding_1 (Embedding)      (None, 1928, 50)          2129500   \n",
      "_________________________________________________________________\n",
      "dropout_1 (Dropout)          (None, 1928, 50)          0         \n",
      "_________________________________________________________________\n",
      "conv1d_1 (Conv1D)            (None, 1924, 250)         62750     \n",
      "_________________________________________________________________\n",
      "global_max_pooling1d_1 (Glob (None, 250)               0         \n",
      "_________________________________________________________________\n",
      "dense_1 (Dense)              (None, 250)               62750     \n",
      "_________________________________________________________________\n",
      "dropout_2 (Dropout)          (None, 250)               0         \n",
      "_________________________________________________________________\n",
      "activation_1 (Activation)    (None, 250)               0         \n",
      "_________________________________________________________________\n",
      "dense_2 (Dense)              (None, 15)                3765      \n",
      "_________________________________________________________________\n",
      "activation_2 (Activation)    (None, 15)                0         \n",
      "=================================================================\n",
      "Total params: 2,258,765\n",
      "Trainable params: 2,258,765\n",
      "Non-trainable params: 0\n",
      "_________________________________________________________________\n"
     ]
    }
   ],
   "source": [
    "model = ProductClassifier()\n",
    "model.summary()\n",
    "model.compile(loss='categorical_crossentropy',optimizer='adam',metrics=['accuracy'])"
   ]
  },
  {
   "cell_type": "code",
   "execution_count": 35,
   "metadata": {
    "_uuid": "528bb07b7c29892de2d9b11cf9d0f027876464a4"
   },
   "outputs": [
    {
     "name": "stdout",
     "output_type": "stream",
     "text": [
      "Train on 89861 samples, validate on 15858 samples\n",
      "Epoch 1/5\n",
      "89861/89861 [==============================] - 108s 1ms/step - loss: 0.7121 - acc: 0.7833 - val_loss: 0.4950 - val_acc: 0.8518\n",
      "Epoch 2/5\n",
      "89861/89861 [==============================] - 106s 1ms/step - loss: 0.4549 - acc: 0.8627 - val_loss: 0.4703 - val_acc: 0.8569\n",
      "Epoch 3/5\n",
      "89861/89861 [==============================] - 106s 1ms/step - loss: 0.3852 - acc: 0.8829 - val_loss: 0.4778 - val_acc: 0.8560\n",
      "Epoch 4/5\n",
      "89861/89861 [==============================] - 106s 1ms/step - loss: 0.3318 - acc: 0.8978 - val_loss: 0.4925 - val_acc: 0.8564\n",
      "Epoch 5/5\n",
      "82600/89861 [==========================>...] - ETA: 8s - loss: 0.2819 - acc: 0.9119"
     ]
    }
   ],
   "source": [
    "fit = model.fit(X_train, y_train,\n",
    "          batch_size=50,\n",
    "          epochs=5,\n",
    "          #shuffle=True,\n",
    "          validation_data=(X_test, y_test))"
   ]
  },
  {
   "cell_type": "code",
   "execution_count": 36,
   "metadata": {
    "_uuid": "10a2532dfad670fb9467eb440f0e39da4f8d6fb3"
   },
   "outputs": [
    {
     "name": "stdout",
     "output_type": "stream",
     "text": [
      "dict_keys(['val_loss', 'val_acc', 'loss', 'acc'])\n"
     ]
    },
    {
     "data": {
      "image/png": "[encoded data removed]",
      "text/plain": [
       "<Figure size 432x288 with 1 Axes>"
      ]
     },
     "metadata": {},
     "output_type": "display_data"
    },
    {
     "data": {
      "image/png": "[encoded data removed]",
      "text/plain": [
       "<Figure size 432x288 with 1 Axes>"
      ]
     },
     "metadata": {},
     "output_type": "display_data"
    }
   ],
   "source": [
    "print(fit.history.keys())\n",
    "# summarize history for accuracy\n",
    "plt.plot(fit.history['acc'])\n",
    "plt.plot(fit.history['val_acc'])\n",
    "plt.title('model accuracy')\n",
    "plt.ylabel('accuracy')\n",
    "plt.xlabel('epoch')\n",
    "plt.legend(['train', 'test'], loc='upper left')\n",
    "plt.show()\n",
    "# summarize history for loss\n",
    "plt.plot(fit.history['loss'])\n",
    "plt.plot(fit.history['val_loss'])\n",
    "plt.title('model loss')\n",
    "plt.ylabel('loss')\n",
    "plt.xlabel('epoch')\n",
    "plt.legend(['train', 'test'], loc='upper left')\n",
    "plt.show()"
   ]
  },
  {
   "cell_type": "code",
   "execution_count": 37,
   "metadata": {
    "_uuid": "a9c56d50f80b95e788c917d038602e93aa6e9ffd"
   },
   "outputs": [],
   "source": [
    "def sentences_to_sequences(X):\n",
    "    token = Tokenizer(num_words=vocab_size, filters='!\"#$%&()*+,-./:;<=>?@[\\]^_`{|}~ ', lower=True, split=' ')\n",
    "    token.fit_on_texts(X)\n",
    "    X_seq = token.texts_to_sequences(X)\n",
    "    X_seq = sequence.pad_sequences(X_seq, maxlen=max_doc_len)\n",
    "    return X_seq"
   ]
  },
  {
   "cell_type": "code",
   "execution_count": 38,
   "metadata": {
    "_uuid": "524776850fe32579dd9d9e1fd0a1eb641849e0c0"
   },
   "outputs": [
    {
     "name": "stdout",
     "output_type": "stream",
     "text": [
      "[\"Narrative: On or about XXXX XXXX, 2016, I received a telephone call from Wells Fargo Bank regarding an inquiry I made about a VA Mortgage. I informed the lady that I was concerned about the repeated inquiries in my credit report but she assured me that inquiries that are dated within XXXX days apart qualify as one inquiry. I was then transferred to a XXXX XXXX XXXX. XXXX XXXX asked me a lot of questions regarding my financial history and questions originating from the VA Lenders ' Manual. After I answered all of the questions XXXX XXXX pulled my full credit report. I was not given an opportunity to submit a written credit application, just the verbal one with XXXX XXXX. XXXX XXXX informed me that he pulled my credit report from all XXXX credit bureaus and that he would utilize the credit score that was in the middle. He then informed me that according to such credit score, I qualify for the VA Mortgage per VA regulations regarding the credit scores of veterans. Then, XXXX XXXX informed me that I had XXXX ( XXXX ) medical delinquencies and XXXX derogatory item from XXXX. Therefore, the Wells Fargo computer system could not pre-qualify me for the VA Mortgage. XXXX XXXX thern informed that I was required to upload documents proving my assets totalling {$5900.00}, and several other kinds of documents including explanation letters concerning the medical delinquencies and the XXXX derogatory item. I implored XXXX XXXX to supply me with a credit denial letter so that I can receive a free credit report from the XXXX ( XXXX ) credit bureaus and ascertain the nature of the XXXX derogatory item that was something new that I knew nothing about prior to XXXX XXXX 's admonishment. I believe that because XXXX XXXX could not pre-qualify me because of the XXXX derogatory item and the medical delinquencies, that such action constitutes a credit denial, even though XXXX XXXX denied that fact. Therefore, I am requesting the CFPB to compel Wells Fargo to supply me with a denial letter so that I can request a free credit report from the XXXX ( XXXX ) credit bureaus instead of repeatedly having to buy them. \\nAdditionally. I believe that the credit scores that Wells Fargo received incorporate the medical delinquencies and XXXX derogatory items. It is not so clear to me which credit report included the XXXX derogatory item and which credit report displayed the middle credit score that Wells Fargo used to qualify me. It appears to me that Wells Fargo used the credit report with the lowest credit score, instead of the middle credit score, to deny me credit because it appears that is the credit report that showed the XXXX derogatory item. \\nIt is also not so clear whether these medical delinquencies and derogatory item was a component of Wells Fargo FCRA ( Fair Credit Reporting Act ) pre-established creditworthiness criteria that I should have been informed about prior to the accessing of my full credit reports. I do not recollect XXXX XXXX asking me and inquiring about any derogatory items in my credit reports prior to accessing them., Expected Product: Mortgage, Prediction Product: Mortgage\"]\n"
     ]
    }
   ],
   "source": [
    "index = 228\n",
    "x_test = np.array([sel_df_cat.iloc[index, 1]])\n",
    "x_result = np.array([sel_df_cat.iloc[index, 0]])\n",
    "X_test_indices = sentences_to_sequences(x_test)\n",
    "le = LabelEncoder()\n",
    "le.fit_transform(sel_df_cat['Product'])\n",
    "print('Narrative: ' + x_test[0] + ', Expected Product: ' + x_result[0] + ', Prediction Product: '+  le.inverse_transform([np.argmax(model.predict(X_test_indices))]))"
   ]
  },
  {
   "cell_type": "code",
   "execution_count": 39,
   "metadata": {
    "_uuid": "208cee6fa6308198186c59802cb72590d2c9b3ff"
   },
   "outputs": [
    {
     "name": "stdout",
     "output_type": "stream",
     "text": [
      "['Narrative: I have a problem with my credit. This is really sad., Prediction Product: Consumer Loan']\n"
     ]
    }
   ],
   "source": [
    "x_test = np.array(['I have a problem with my credit. This is really sad.'])\n",
    "X_test_indices = sentences_to_sequences(x_test)\n",
    "le = LabelEncoder()\n",
    "le.fit_transform(sel_df_cat['Product'])\n",
    "print('Narrative: ' + x_test[0] + ', Prediction Product: '+  le.inverse_transform([np.argmax(model.predict(X_test_indices))]))"
   ]
  },
  {
   "cell_type": "code",
   "execution_count": 40,
   "metadata": {
    "_uuid": "6bd49aadebe8fcb377754b2c4cf1992d4677b248"
   },
   "outputs": [],
   "source": []
  }
 ],
 "metadata": {
  "kernelspec": {
   "display_name": "Python 3",
   "language": "python",
   "name": "python3"
  },
  "language_info": {
   "codemirror_mode": {
    "name": "ipython",
    "version": 3
   },
   "file_extension": ".py",
   "mimetype": "text/x-python",
   "name": "python",
   "nbconvert_exporter": "python",
   "pygments_lexer": "ipython3",
   "version": "3.7.4"
  }
 },
 "nbformat": 4,
 "nbformat_minor": 1
}
